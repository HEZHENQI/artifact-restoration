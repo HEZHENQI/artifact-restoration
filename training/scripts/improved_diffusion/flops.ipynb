{
 "cells": [
  {
   "cell_type": "code",
   "execution_count": 2,
   "id": "3d2bb2c5-7429-4bfb-8605-b56fe117fd31",
   "metadata": {},
   "outputs": [
    {
     "ename": "SyntaxError",
     "evalue": "invalid syntax (3217095892.py, line 4)",
     "output_type": "error",
     "traceback": [
      "\u001b[0;36m  Input \u001b[0;32mIn [3]\u001b[0;36m\u001b[0m\n\u001b[0;31m    from /root/RePaint_SwinUNet_concat/improveddiffusion/scripts/improved_diffusion/swinunet.py import SwinUNetModel\u001b[0m\n\u001b[0m         ^\u001b[0m\n\u001b[0;31mSyntaxError\u001b[0m\u001b[0;31m:\u001b[0m invalid syntax\n"
     ]
    }
   ],
   "source": [
    "import argparse\n",
    "import inspect\n",
    "\n",
    "from RePaint_SwinUNet_concat/improveddiffusion/scripts/improved_diffusion/swinunet.py import SwinUNetModel"
   ]
  },
  {
   "cell_type": "code",
   "execution_count": null,
   "id": "33eb7913-1896-447d-8007-c85d44b28046",
   "metadata": {},
   "outputs": [],
   "source": []
  }
 ],
 "metadata": {
  "kernelspec": {
   "display_name": "Python 3 (ipykernel)",
   "language": "python",
   "name": "python3"
  },
  "language_info": {
   "codemirror_mode": {
    "name": "ipython",
    "version": 3
   },
   "file_extension": ".py",
   "mimetype": "text/x-python",
   "name": "python",
   "nbconvert_exporter": "python",
   "pygments_lexer": "ipython3",
   "version": "3.8.10"
  }
 },
 "nbformat": 4,
 "nbformat_minor": 5
}
